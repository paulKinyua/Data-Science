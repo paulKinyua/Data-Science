{
 "cells": [
  {
   "cell_type": "code",
   "execution_count": 1,
   "id": "64a07fcc",
   "metadata": {},
   "outputs": [],
   "source": [
    "import pandas as pd"
   ]
  },
  {
   "cell_type": "code",
   "execution_count": 1,
   "id": "de4d8569",
   "metadata": {},
   "outputs": [],
   "source": [
    "data = { \n",
    "         \"first name\" : [\"John\", \"James\", \"Mary\"], \n",
    "         \"Age\" :  [22, 34, 30], \n",
    "         \"GENDER\":[\"M\", \"M\", \"F\"], \n",
    "         \"  salary \":[30000, 56000, 44000]\n",
    "       }"
   ]
  },
  {
   "cell_type": "markdown",
   "id": "4a63f176",
   "metadata": {},
   "source": [
    "## write code that will be able to clean up columns\n",
    "\n",
    "#### use map in python"
   ]
  },
  {
   "cell_type": "code",
   "execution_count": 12,
   "id": "1a70520f",
   "metadata": {},
   "outputs": [
    {
     "data": {
      "text/plain": [
       "{'first name': ['John', 'James', 'Mary'],\n",
       " 'age': [22, 34, 30],\n",
       " 'gender': ['M', 'M', 'F'],\n",
       " '  salary ': [30000, 56000, 44000]}"
      ]
     },
     "execution_count": 12,
     "metadata": {},
     "output_type": "execute_result"
    }
   ],
   "source": [
    "def cleanColumn(data):\n",
    "    #get all the key values\n",
    "    keysList = list(data.keys())\n",
    "    \n",
    "    #loop through the key values\n",
    "    for key in keysList:\n",
    "        #replace the uppercase key values with lowercase values\n",
    "        data[key.lower()] = data.pop(key)\n",
    "\n",
    "#run the map        \n",
    "map(cleanColumn(data), data)\n",
    "\n",
    "#display the new key values\n",
    "data"
   ]
  },
  {
   "cell_type": "code",
   "execution_count": 15,
   "id": "b871c1e0",
   "metadata": {},
   "outputs": [],
   "source": [
    "#data.rename(columns={ 'Age': 'age'}, inplace=True)"
   ]
  },
  {
   "cell_type": "code",
   "execution_count": null,
   "id": "8d7e1c64",
   "metadata": {},
   "outputs": [],
   "source": []
  },
  {
   "cell_type": "code",
   "execution_count": null,
   "id": "5a42e2d1",
   "metadata": {},
   "outputs": [],
   "source": []
  },
  {
   "cell_type": "code",
   "execution_count": null,
   "id": "76344ef2",
   "metadata": {},
   "outputs": [],
   "source": []
  },
  {
   "cell_type": "code",
   "execution_count": null,
   "id": "6fad88a6",
   "metadata": {},
   "outputs": [],
   "source": []
  }
 ],
 "metadata": {
  "kernelspec": {
   "display_name": "Python 3 (ipykernel)",
   "language": "python",
   "name": "python3"
  },
  "language_info": {
   "codemirror_mode": {
    "name": "ipython",
    "version": 3
   },
   "file_extension": ".py",
   "mimetype": "text/x-python",
   "name": "python",
   "nbconvert_exporter": "python",
   "pygments_lexer": "ipython3",
   "version": "3.11.5"
  }
 },
 "nbformat": 4,
 "nbformat_minor": 5
}
