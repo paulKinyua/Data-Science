{
 "cells": [
  {
   "cell_type": "code",
   "execution_count": 1,
   "id": "95e3c441",
   "metadata": {},
   "outputs": [
    {
     "name": "stdout",
     "output_type": "stream",
     "text": [
      "Requirement already satisfied: psycopg2 in c:\\users\\hp\\anaconda3\\lib\\site-packages (2.9.9)\n",
      "Note: you may need to restart the kernel to use updated packages.\n"
     ]
    }
   ],
   "source": [
    "pip install psycopg2"
   ]
  },
  {
   "cell_type": "code",
   "execution_count": 2,
   "id": "53833286",
   "metadata": {},
   "outputs": [],
   "source": [
    "import psycopg2\n",
    "import pandas as pd"
   ]
  },
  {
   "cell_type": "code",
   "execution_count": 4,
   "id": "7fa15466",
   "metadata": {},
   "outputs": [],
   "source": [
    "#connect to the db\n",
    "connection = psycopg2.connect(database='myduka', user='postgres', password='Mamamia11')"
   ]
  },
  {
   "cell_type": "code",
   "execution_count": 5,
   "id": "051a4c8b",
   "metadata": {},
   "outputs": [],
   "source": [
    "#declare the cursor\n",
    "cursor = connection.cursor()"
   ]
  },
  {
   "cell_type": "code",
   "execution_count": 6,
   "id": "9031407e",
   "metadata": {},
   "outputs": [],
   "source": [
    "# query to select from products table\n",
    "fetch_all = \"SELECT * FROM products\""
   ]
  },
  {
   "cell_type": "code",
   "execution_count": 7,
   "id": "9bb56ff9",
   "metadata": {},
   "outputs": [],
   "source": [
    "# Executing the SELECT query\n",
    "cursor.execute(fetch_all)"
   ]
  },
  {
   "cell_type": "code",
   "execution_count": 8,
   "id": "df977e4a",
   "metadata": {},
   "outputs": [],
   "source": [
    "#fetch the data\n",
    "rows = cursor.fetchall()"
   ]
  },
  {
   "cell_type": "code",
   "execution_count": 11,
   "id": "de3318c6",
   "metadata": {},
   "outputs": [
    {
     "data": {
      "text/plain": [
       "[(1, 'blueband', Decimal('200.00'), Decimal('210.00'), 50, None),\n",
       " (2, 'kiwi', Decimal('150.00'), Decimal('170.00'), 50, None),\n",
       " (3, 'broadways', Decimal('60.00'), Decimal('70.00'), 50, None),\n",
       " (4, 'superloaf', Decimal('55.00'), Decimal('65.00'), 50, None),\n",
       " (5, 'lotion', Decimal('200.00'), Decimal('250.00'), 50, None),\n",
       " (6, 'bata', Decimal('1500.00'), Decimal('1700.00'), 50, None),\n",
       " (7, 'karatasi', Decimal('50.00'), Decimal('60.00'), 50, None)]"
      ]
     },
     "execution_count": 11,
     "metadata": {},
     "output_type": "execute_result"
    }
   ],
   "source": [
    "#display the data\n",
    "rows"
   ]
  },
  {
   "cell_type": "code",
   "execution_count": null,
   "id": "d1045054",
   "metadata": {},
   "outputs": [],
   "source": []
  }
 ],
 "metadata": {
  "kernelspec": {
   "display_name": "Python 3 (ipykernel)",
   "language": "python",
   "name": "python3"
  },
  "language_info": {
   "codemirror_mode": {
    "name": "ipython",
    "version": 3
   },
   "file_extension": ".py",
   "mimetype": "text/x-python",
   "name": "python",
   "nbconvert_exporter": "python",
   "pygments_lexer": "ipython3",
   "version": "3.11.5"
  }
 },
 "nbformat": 4,
 "nbformat_minor": 5
}
